{
 "cells": [
  {
   "cell_type": "code",
   "execution_count": 1,
   "metadata": {},
   "outputs": [],
   "source": [
    "from gpt_models import get_gpt_logprobs, tokenize_gpt\n",
    "from data_utils import save_to_json, load_from_json\n",
    "from collections import defaultdict\n",
    "from pprint import pprint\n",
    "import random\n",
    "from tqdm import tqdm"
   ]
  },
  {
   "cell_type": "code",
   "execution_count": 2,
   "metadata": {},
   "outputs": [],
   "source": [
    "# model = 'gpt-3.5-turbo-0125'\n",
    "# model = 'gpt-4-turbo-2024-04-09'\n",
    "model = \"gpt-4o-2024-05-13\"\n",
    "\n",
    "model_name = (\n",
    "    \"gpt4o\" if \"gpt-4o\" in model else \"gpt4\" if \"gpt-4\" in model else \"gpt35\"\n",
    ")\n",
    "input = \"\"\"Your task: Produce a list that contains, in order, a one-word country, a one-word capital city of a country, a one-word US state, a one-word US state capital, and the surname of an American president.\"\"\""
   ]
  },
  {
   "cell_type": "code",
   "execution_count": 3,
   "metadata": {},
   "outputs": [],
   "source": [
    "# from data_utils import update_solutions_json\n",
    "# update_solutions_json()\n",
    "results = load_from_json(f\"results/{model_name}_results.json\")\n",
    "solutions = load_from_json(\"solutions.json\")"
   ]
  },
  {
   "cell_type": "code",
   "execution_count": 17,
   "metadata": {},
   "outputs": [
    {
     "data": {
      "text/plain": [
       "[[['Chile', 0.11818368645387103],\n",
       "  ['Canada', 0.09204154755654015],\n",
       "  ['Brazil', 0.09204154755654015],\n",
       "  ['Japan', 0.09204154755654015],\n",
       "  ['Spain', 0.07168202931213742],\n",
       "  ['France', 0.07168202931213742],\n",
       "  ['China', 0.038368625408754804],\n",
       "  ['G', 0.033860193079654724],\n",
       "  ['Nep', 0.029881515513711644],\n",
       "  ['Germany', 0.029881515513711644],\n",
       "  ['Mexico', 0.02637034488538406],\n",
       "  ['Den', 0.02637034488538406],\n",
       "  ['Italy', 0.023271747681438963],\n",
       "  ['Egypt', 0.020537245246600125],\n",
       "  ['Per', 0.020537245246600125],\n",
       "  ['India', 0.018124058942556243],\n",
       "  ['Ch', 0.014115031296895099],\n",
       "  ['Nor', 0.014115031296895099],\n",
       "  ['Sw', 0.01245647139939455],\n",
       "  ['Turkey', 0.01099279742709929]],\n",
       " [[' Y', 0.26730514713485665],\n",
       "  ['\\n', 0.2358959643914305],\n",
       "  ['  \\n', 0.16212876723628714],\n",
       "  [' Yemen', 0.16212876723628714],\n",
       "  [' \\n', 0.036175814180518656],\n",
       "  [' York', 0.036175814180518656],\n",
       "  [' Ya', 0.019363517976101963],\n",
       "  ['   \\n', 0.013308338304651142],\n",
       "  [' Yak', 0.010364544293041483],\n",
       "  [' Yangon', 0.009146678235309954],\n",
       "  [' ', 0.00628641388767926],\n",
       "  ['\\n\\n', 0.005547740784241732],\n",
       "  [' y', 0.005547740784241732],\n",
       "  [' Yok', 0.004895864058435563],\n",
       "  [' Yukon', 0.0038129027625207626],\n",
       "  ['  ', 0.0026205671897530005],\n",
       "  ['   ', 0.0020408997794708677],\n",
       "  [' Yug', 0.001589454346422169],\n",
       "  [' Yellow', 0.001589454346422169],\n",
       "  [' **', 0.0014026885375171868]],\n",
       " [['ere', 0.916610290640826],\n",
       "  ['amous', 0.07523996046510027],\n",
       "  ['aren', 0.007930231903040359],\n",
       "  ['amag', 7.774525793147653e-05],\n",
       "  ['ogyakarta', 7.774525793147653e-05],\n",
       "  ['pres', 1.9657079591130285e-05],\n",
       "  ['unnan', 3.870708471911639e-06],\n",
       "  ['are', 3.870708471911639e-06],\n",
       "  ['alta', 2.660296434070256e-06],\n",
       "  ['ola', 2.660296434070256e-06],\n",
       "  ['re', 2.0718409460559816e-06],\n",
       "  ['ambio', 2.0718409460559816e-06],\n",
       "  ['ach', 1.6135513511877986e-06],\n",
       "  ['asmine', 1.423954069584421e-06],\n",
       "  ['ek', 1.423954069584421e-06],\n",
       "  ['amus', 1.423954069584421e-06],\n",
       "  ['inch', 9.786683655161465e-07],\n",
       "  ['emen', 9.786683655161465e-07],\n",
       "  ['ango', 9.786683655161465e-07],\n",
       "  ['igo', 9.786683655161465e-07]],\n",
       " [['van', 0.9999996871837189],\n",
       "  ['ven', 1.1253517471925912e-07],\n",
       "  ['Van', 7.734421907141565e-08],\n",
       "  [' van', 2.215948977336598e-08],\n",
       "  ['va', 1.7257827987960214e-08],\n",
       "  ['ban', 1.186112015134383e-08],\n",
       "  ['wan', 6.34880011604368e-09],\n",
       "  ['v', 5.602796437537268e-09],\n",
       "  ['can', 4.944450501938644e-09],\n",
       "  ['ve', 3.850741922767617e-09],\n",
       "  ['<|end|>', 2.646573638909117e-09],\n",
       "  ['vin', 2.335593038799337e-09],\n",
       "  ['vana', 2.335593038799337e-09],\n",
       "  ['von', 1.6052280551856116e-09],\n",
       "  ['avan', 1.6052280551856116e-09],\n",
       "  ['an', 1.4166087866431961e-09],\n",
       "  ['ván', 1.103256032343554e-09],\n",
       "  ['val', 1.103256032343554e-09],\n",
       "  ['gan', 6.691586091292782e-10],\n",
       "  ['ba', 6.691586091292782e-10]],\n",
       " [[' Nevada', 0.6715425764768786],\n",
       "  [' Nebraska', 0.3172142391806325],\n",
       "  [' New', 0.006583570839946336],\n",
       "  [' North', 0.0035239315325456444],\n",
       "  [' Nashville', 0.0003714196509394131],\n",
       "  [' Nepal', 0.00015483074583889036],\n",
       "  [' Nigeria', 0.00012058230610285746],\n",
       "  [' Norway', 8.287492619638515e-05],\n",
       "  [' Nicaragua', 5.026618365952929e-05],\n",
       "  [' Namibia', 4.4359751384283e-05],\n",
       "  [' Ne', 2.6905549271797575e-05],\n",
       "  [' Vermont', 2.6905549271797575e-05],\n",
       "  [' N', 2.6905549271797575e-05],\n",
       "  [' Virginia', 2.3744063894698575e-05],\n",
       "  [' ', 2.0954062841842217e-05],\n",
       "  [' Netherlands', 2.0954062841842217e-05],\n",
       "  [' Naples', 1.2709281559122539e-05],\n",
       "  [' Nairobi', 1.1215901610001158e-05],\n",
       "  ['\\n', 7.7085689285282e-06],\n",
       "  [' Napa', 7.7085689285282e-06]],\n",
       " [[' Albany', 0.5411541529314425],\n",
       "  [' Austin', 0.1990794873680243],\n",
       "  [' Atlanta', 0.15504326065567117],\n",
       "  [' Annap', 0.08298868547966486],\n",
       "  [' Augusta', 0.014421271137570057],\n",
       "  [' Anchorage', 0.0019517068140350313],\n",
       "  [' Athens', 0.0008135924443189501],\n",
       "  [' Dover', 0.0006336264327365768],\n",
       "  [' Denver', 0.0005591733642857555],\n",
       "  [' Albuquerque', 0.0002993039337573632],\n",
       "  [' Anaheim', 0.0002993039337573632],\n",
       "  [' Alabama', 0.00023309813798658635],\n",
       "  [' Aspen', 0.00020570838477139907],\n",
       "  [' Akron', 0.00020570838477139907],\n",
       "  [' Amsterdam', 0.00020570838477139907],\n",
       "  [' Arizona', 0.00016020585114431946],\n",
       "  [' Amar', 0.00014138116741079068],\n",
       "  [' Ankara', 0.0001247684423238169],\n",
       "  [' August', 0.00011010776389107317],\n",
       "  [' Des', 9.716976058438802e-05]],\n",
       " [[' Nixon', 0.9940221866512153],\n",
       "  [' Lincoln', 0.0027920036130793125],\n",
       "  [' Nash', 0.0007059290650163651],\n",
       "  [' N', 0.00048517747797268296],\n",
       "  [' Truman', 0.00020225202291980908],\n",
       "  [' ', 0.0001784867837682001],\n",
       "  [' Norris', 0.00013900564696657074],\n",
       "  [' n', 0.00013900564696657074],\n",
       "  [' Norton', 0.00010825770670891256],\n",
       "  [' Johnson', 9.553709085152691e-05],\n",
       "  [' North', 8.431118675841558e-05],\n",
       "  [' Nashville', 7.440436116753311e-05],\n",
       "  [' Nichols', 6.566161826913352e-05],\n",
       "  [' Nolan', 6.566161826913352e-05],\n",
       "  [' Navarro', 5.794617474120241e-05],\n",
       "  [' Newton', 5.113731972573685e-05],\n",
       "  [' Newman', 4.51285262644409e-05],\n",
       "  [' Nelson', 4.51285262644409e-05],\n",
       "  [' Taylor', 3.514613159360503e-05],\n",
       "  [' Nebraska', 3.514613159360503e-05]]]"
      ]
     },
     "execution_count": 17,
     "metadata": {},
     "output_type": "execute_result"
    }
   ],
   "source": [
    "results[0]['logprob_data']"
   ]
  },
  {
   "cell_type": "code",
   "execution_count": 4,
   "metadata": {},
   "outputs": [],
   "source": [
    "def produce_results(model_name, number_of_results=100):\n",
    "    results = []\n",
    "    for i in range(number_of_results):\n",
    "        logprobs, message = get_gpt_logprobs(model, input, temperature=1)\n",
    "        results.append({'logprob_data': logprobs, 'message': message, 'tokens': tokenize_gpt(logprobs)})\n",
    "\n",
    "    existing_results = load_from_json(f'results/{model_name}_results.json')\n",
    "    existing_results.extend(results)\n",
    "    save_to_json(existing_results, 'results/{model_name}_results.json')"
   ]
  },
  {
   "cell_type": "code",
   "execution_count": 5,
   "metadata": {},
   "outputs": [],
   "source": [
    "prefix_map = {}\n",
    "prefix_map[''] = results[0]['logprob_data'][0]\n",
    "for result in results:\n",
    "    prefix = ''\n",
    "    for token, logprobs in zip(result['tokens'], result['logprob_data'][1:]):\n",
    "        prefix += token\n",
    "        prefix_map[prefix] = logprobs"
   ]
  },
  {
   "cell_type": "code",
   "execution_count": 6,
   "metadata": {},
   "outputs": [],
   "source": [
    "def compute_prefix_map(results):\n",
    "    prefix_map = {}\n",
    "    prefix_map[''] = results[0]['logprob_data'][0]\n",
    "    for result in results:\n",
    "        prefix = ''\n",
    "        for token, logprobs in zip(result['tokens'], result['logprob_data'][1:]):\n",
    "            prefix += token\n",
    "            if prefix == 'Canada  \\nAmman  \\nNevada  \\nAustin  \\nN':\n",
    "                print(prefix, logprobs)\n",
    "            prefix_map[prefix] = logprobs\n",
    "    \n",
    "    return prefix_map"
   ]
  },
  {
   "cell_type": "code",
   "execution_count": 7,
   "metadata": {},
   "outputs": [],
   "source": [
    "def check_word_chain(words):\n",
    "    \"\"\" Returns True if the words follow the last letter/first letter rule, else False \"\"\"\n",
    "    words = [word.lower() for word in words]\n",
    "    for i in range(len(words) - 1):\n",
    "        if words[i][-1] != words[i + 1][0]:\n",
    "            return False\n",
    "    return True"
   ]
  },
  {
   "cell_type": "code",
   "execution_count": 8,
   "metadata": {},
   "outputs": [],
   "source": [
    "def first_letter_set(arr):\n",
    "    return set([s[0] for s in arr])\n",
    "\n",
    "def last_letter_set(arr):\n",
    "    return set([s[-1] for s in arr])"
   ]
  },
  {
   "cell_type": "code",
   "execution_count": 9,
   "metadata": {},
   "outputs": [
    {
     "name": "stdout",
     "output_type": "stream",
     "text": [
      "Total number of correct chains: 24686\n",
      "Examples:\n",
      "[['russia', 'amsterdam', 'massachusetts', 'salem', 'monroe'],\n",
      " ['rwanda', 'amsterdam', 'massachusetts', 'salem', 'monroe'],\n",
      " ['samoa', 'amsterdam', 'massachusetts', 'salem', 'monroe'],\n",
      " ['serbia', 'amsterdam', 'massachusetts', 'salem', 'monroe'],\n",
      " ['slovakia', 'amsterdam', 'massachusetts', 'salem', 'monroe'],\n",
      " ['slovenia', 'amsterdam', 'massachusetts', 'salem', 'monroe'],\n",
      " ['somalia', 'amsterdam', 'massachusetts', 'salem', 'monroe'],\n",
      " ['syria', 'amsterdam', 'massachusetts', 'salem', 'monroe'],\n",
      " ['tanzania', 'amsterdam', 'massachusetts', 'salem', 'monroe'],\n",
      " ['tonga', 'amsterdam', 'massachusetts', 'salem', 'monroe']]\n",
      "Choosable countries: 152 / 182\n",
      "Choosable world capitals: 118 / 209\n",
      "Choosable states: 30 / 40\n",
      "Choosable state capitals: 14 / 41\n",
      "Choosable presidents: 12 / 39\n"
     ]
    }
   ],
   "source": [
    "\"\"\" Print total number of correct solution chains and the number of choosable items for each category \"\"\"\n",
    "\n",
    "def build_last_letter_dict(strings):\n",
    "    prefix_dict = defaultdict(list)\n",
    "    for s in strings:\n",
    "        prefix_dict[s[-1]].append(s)\n",
    "    return prefix_dict\n",
    "\n",
    "last_letter_dict_countries = build_last_letter_dict(solutions['countries'])\n",
    "last_letter_dict_world_capitals = build_last_letter_dict(solutions['world_capitals'])\n",
    "last_letter_dict_states = build_last_letter_dict(solutions['states'])\n",
    "last_letter_dict_state_capitals = build_last_letter_dict(solutions['state_capitals'])\n",
    "\n",
    "correct_chains = []\n",
    "for p in solutions['presidents']:\n",
    "    for result in last_letter_dict_state_capitals[p[0]]:\n",
    "        for s in last_letter_dict_states[result[0]]:\n",
    "            for w in last_letter_dict_world_capitals[s[0]]:\n",
    "                for x in last_letter_dict_countries[w[0]]:\n",
    "                    correct_chains.append([x, w, s, result, p])\n",
    "\n",
    "print(f'Total number of correct chains: {len(correct_chains)}')\n",
    "print('Examples:')\n",
    "pprint(correct_chains[10000:10010])\n",
    "\n",
    "choosable_countries = set([c[0] for c in correct_chains])\n",
    "choosable_world_capitals = set([c[1] for c in correct_chains])\n",
    "choosable_states = set([c[2] for c in correct_chains])\n",
    "choosable_state_capitals = set([c[3] for c in correct_chains])\n",
    "choosable_presidents = set([c[4] for c in correct_chains])\n",
    "choosable = choosable_countries | choosable_world_capitals | choosable_states | choosable_state_capitals | choosable_presidents\n",
    "\n",
    "print(f'Choosable countries: {len(choosable_countries)} / {len(solutions[\"countries\"])}')\n",
    "print(f'Choosable world capitals: {len(choosable_world_capitals)} / {len(solutions[\"world_capitals\"])}')\n",
    "print(f'Choosable states: {len(choosable_states)} / {len(solutions[\"states\"])}')\n",
    "print(f'Choosable state capitals: {len(choosable_state_capitals)} / {len(solutions[\"state_capitals\"])}')\n",
    "print(f'Choosable presidents: {len(choosable_presidents)} / {len(solutions[\"presidents\"])}')"
   ]
  },
  {
   "cell_type": "code",
   "execution_count": 10,
   "metadata": {},
   "outputs": [
    {
     "name": "stdout",
     "output_type": "stream",
     "text": [
      "1000 64\n",
      "[]\n",
      "---\n",
      "1000 102\n",
      "['Denver', 'Lahore', 'Austin', 'La', 'Estonia', 'Namaqua', 'Yangon', 'Elgin', 'Youngstown', 'Yak', 'Tallahassee', 'Australia', 'Lagos', 'Denmark', 'Yakarta', 'Uzbekistan', 'Laos', 'Yaoundé', 'Ethiopia', 'Addis', 'Yakima', 'Ecuador', 'Nepal', 'Kansas', 'Uruguay', 'Egypt', 'Utah', 'England', 'New', 'Namibia', 'Atlanta', 'Andorra', 'Norway', 'Yemen', 'Mexico', 'ElKuwait', 'York', 'November', 'Nigeria', 'Yakutsk', 'Kuwait', 'Uganda', 'Tangier', 'Naples', 'Nicaragua', 'Edmonton', 'Nashville', 'Montreal']\n",
      "---\n",
      "1000 54\n",
      "['York', 'X', 'Estonia', 'South', 'North', 'New', 'Sofia', 'Southhold', 'Delhi', 'Paz', 'x-ray', 'Yemen', 'Yellowstone', 'Xenia', 'Southhampton', 'Rhode', 'Yale', 'Seol', 'Harrisburg', 'Everglades']\n",
      "---\n",
      "1000 63\n",
      "['Hawaii', 'Anchorage', 'Island', 'York', 'Texas', 'Eugene', 'Edmondson', 'Seattle', 'Illinois', 'Santa', 'Newmont', 'Omaha', 'Exeter', 'Dakota', 'Esmeralda', 'Garfield', 'Samoa', 'Houston', 'Eureka', 'Idaho', 'Lugosi', 'Carolina', 'Harrisoni', 'Arizona', 'Nevada', 'Aspen', 'Kentucky', 'Nebraska', 'Alaska', 'Emporia', 'Yakima', 'Orlando', 'Evanston', 'Yuma', 'Haven', 'Kansas', 'Everglades']\n",
      "---\n",
      "998 78\n",
      "['Denver', 'Simpson', 'Albany', 'Yates', 'Harris', 'Smith', 'Yount', 'Kentucky', 'Stivers', 'Seaton', 'Young', 'Yow', 'Sherman', 'Emerson', 'Indianapolis', 'Dodd', 'Fe', 'Stover', 'Douglas', 'Yellen', 'Dover', 'Yard', 'Icard', 'Stinson', 'Sanders', 'Yreka', 'Davis', 'Sarkozy', 'Kansas', 'Yankee', 'Yeltsin', 'Stevens', 'Dixon', 'Snipes', 'Atlanta', 'Sully', 'Snyder', 'Singleton', 'Yancey', 'Yale', 'Stout', 'Stanton', 'York', 'Kane', 'Samson', 'Salem', 'Sullivan', 'Scott', 'Seldon', 'Norris', 'Springfield', 'Seward', 'Stevenson', 'Yancy']\n",
      "---\n"
     ]
    }
   ],
   "source": [
    "\"\"\" Prints the invalid submitted tokens for each category\"\"\"\n",
    "\n",
    "countries = []\n",
    "capitals = []\n",
    "states = []\n",
    "state_capitals = []\n",
    "presidents = []\n",
    "submitted_items = [countries, capitals, states, state_capitals, presidents]\n",
    "for result in results:\n",
    "    words = result['message'].split()\n",
    "    for index in range(min(5, len(words))):\n",
    "        if index == 4:\n",
    "            presidents.append(words[index].replace('.', ''))\n",
    "        else:\n",
    "            submitted_items[index].append(words[index])\n",
    "    \n",
    "for name, l in [('countries', countries), ('world_capitals', capitals), ('states', states), ('state_capitals', state_capitals), ('presidents', presidents)]:\n",
    "    print(len(l), len(set(l)))\n",
    "    print([i for i in set(l) if i.lower() not in [j.lower() for j in solutions[name]]])\n",
    "    print('---')"
   ]
  },
  {
   "cell_type": "code",
   "execution_count": 11,
   "metadata": {},
   "outputs": [
    {
     "name": "stdout",
     "output_type": "stream",
     "text": [
      "409 1000 0.409\n"
     ]
    }
   ],
   "source": [
    "score = 0\n",
    "valid_results = []\n",
    "for result in results:\n",
    "    try:\n",
    "        a, b, c, d, e = result['message'].split()[:5]\n",
    "        if a.lower() not in solutions['countries']:\n",
    "            continue\n",
    "        if b.lower() not in solutions['world_capitals']:\n",
    "            continue\n",
    "        if c.lower() not in solutions['states']:\n",
    "            continue\n",
    "        if d.lower() not in solutions['state_capitals']:\n",
    "            continue\n",
    "        if e.lower() not in solutions['presidents']:\n",
    "            continue\n",
    "        score += 1\n",
    "        valid_results.append(result)\n",
    "    except:\n",
    "        continue\n",
    "\n",
    "print(score, len(results), score / len(results))"
   ]
  },
  {
   "cell_type": "code",
   "execution_count": 12,
   "metadata": {},
   "outputs": [
    {
     "data": {
      "text/plain": [
       "(341, 409, 0.8337408312958435)"
      ]
     },
     "execution_count": 12,
     "metadata": {},
     "output_type": "execute_result"
    }
   ],
   "source": [
    "passing_results = []\n",
    "for result in valid_results:\n",
    "    words = result['message'].split()[:5]\n",
    "    if check_word_chain(words):\n",
    "        passing_results.append(result)\n",
    "\n",
    "len(passing_results), len(valid_results), len(passing_results) / len(valid_results)"
   ]
  },
  {
   "cell_type": "code",
   "execution_count": 13,
   "metadata": {},
   "outputs": [
    {
     "name": "stdout",
     "output_type": "stream",
     "text": [
      "Canada  \n",
      "Amman  \n",
      "Nevada  \n",
      "Austin  \n",
      "N [['ixon', 0.9999993295729247], ['ix', 3.466323946336287e-07], ['ash', 6.82560337633487e-08], ['orris', 2.8453348089834e-08], ['olan', 2.8453348089834e-08], ['ixen', 2.510999155743982e-08], ['ixo', 2.215948977336598e-08], ['icol', 1.0467401794744658e-08], ['<|end|>', 1.0467401794744658e-08], ['aylor', 9.237449661970594e-09], ['icolas', 8.152020714470167e-09], ['orton', 5.602796437537268e-09], ['ielsen', 5.602796437537268e-09], ['oble', 4.363462252943702e-09], ['ox', 3.850741922767617e-09], ['issan', 3.850741922767617e-09], ['IX', 3.850741922767617e-09], ['ikon', 2.335593038799337e-09], ['ye', 1.8189616875530459e-09], ['ison', 1.8189616875530459e-09]]\n"
     ]
    },
    {
     "name": "stderr",
     "output_type": "stream",
     "text": [
      "100%|██████████| 341/341 [00:00<00:00, 49148.06it/s]"
     ]
    },
    {
     "name": "stderr",
     "output_type": "stream",
     "text": [
      "\n"
     ]
    }
   ],
   "source": [
    "prefix_map = compute_prefix_map(results)\n",
    "\n",
    "total_prob_map = []\n",
    "for result in tqdm(passing_results):\n",
    "    # print(result['message'])\n",
    "    # print(result['tokens'])\n",
    "    response = ''\n",
    "    try:\n",
    "        total_prob = [i[1] for i in prefix_map[response] if i[0] == result['tokens'][0]][0]\n",
    "        # print(total_prob)\n",
    "    except:\n",
    "        total_prob = prefix_map[''][-1][1]\n",
    "    # print(result['tokens'][0], total_prob)\n",
    "    for token, next_token in zip(result['tokens'], result['tokens'][1:]):\n",
    "        response += token\n",
    "        try:\n",
    "            prob = [i[1] for i in prefix_map[response] if i[0] == next_token][0]\n",
    "        except:\n",
    "            try:\n",
    "                prob = prefix_map[response][-1][1]\n",
    "            except:\n",
    "                prob = 1\n",
    "        total_prob *= prob\n",
    "        # print(next_token, prob)\n",
    "    result['total_prob']= total_prob\n",
    "    # print('\\n', total_prob)\n",
    "\n",
    "save_to_json(results, f\"results/{model_name}_results.json\")"
   ]
  },
  {
   "cell_type": "code",
   "execution_count": 14,
   "metadata": {},
   "outputs": [],
   "source": [
    "save_to_json([result['total_prob'] for result in passing_results], f'{model_name}_total_probs.json')"
   ]
  },
  {
   "cell_type": "code",
   "execution_count": 15,
   "metadata": {},
   "outputs": [
    {
     "data": {
      "text/plain": [
       "[['ixon', 0.9999993295729247],\n",
       " ['ix', 3.466323946336287e-07],\n",
       " ['ash', 6.82560337633487e-08],\n",
       " ['orris', 2.8453348089834e-08],\n",
       " ['olan', 2.8453348089834e-08],\n",
       " ['ixen', 2.510999155743982e-08],\n",
       " ['ixo', 2.215948977336598e-08],\n",
       " ['icol', 1.0467401794744658e-08],\n",
       " ['<|end|>', 1.0467401794744658e-08],\n",
       " ['aylor', 9.237449661970594e-09],\n",
       " ['icolas', 8.152020714470167e-09],\n",
       " ['orton', 5.602796437537268e-09],\n",
       " ['ielsen', 5.602796437537268e-09],\n",
       " ['oble', 4.363462252943702e-09],\n",
       " ['ox', 3.850741922767617e-09],\n",
       " ['issan', 3.850741922767617e-09],\n",
       " ['IX', 3.850741922767617e-09],\n",
       " ['ikon', 2.335593038799337e-09],\n",
       " ['ye', 1.8189616875530459e-09],\n",
       " ['ison', 1.8189616875530459e-09]]"
      ]
     },
     "execution_count": 15,
     "metadata": {},
     "output_type": "execute_result"
    }
   ],
   "source": [
    "prefix_map['Canada  \\nAmman  \\nNevada  \\nAustin  \\nN']"
   ]
  },
  {
   "cell_type": "code",
   "execution_count": null,
   "metadata": {},
   "outputs": [],
   "source": []
  }
 ],
 "metadata": {
  "kernelspec": {
   "display_name": "venv",
   "language": "python",
   "name": "python3"
  },
  "language_info": {
   "codemirror_mode": {
    "name": "ipython",
    "version": 3
   },
   "file_extension": ".py",
   "mimetype": "text/x-python",
   "name": "python",
   "nbconvert_exporter": "python",
   "pygments_lexer": "ipython3",
   "version": "3.10.13"
  }
 },
 "nbformat": 4,
 "nbformat_minor": 2
}
