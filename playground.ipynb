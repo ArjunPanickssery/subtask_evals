{
 "cells": [
  {
   "cell_type": "code",
   "execution_count": 44,
   "metadata": {},
   "outputs": [],
   "source": [
    "from gpt_models import get_gpt_logprobs, tokenize_gpt\n",
    "from data_utils import save_to_json, load_from_json\n",
    "from collections import defaultdict\n",
    "from pprint import pprint\n",
    "import random\n",
    "from tqdm import tqdm"
   ]
  },
  {
   "cell_type": "code",
   "execution_count": 45,
   "metadata": {},
   "outputs": [],
   "source": [
    "# model = 'gpt-3.5-turbo-0125'\n",
    "model = 'gpt-4-turbo-2024-04-09'\n",
    "# model = \"gpt-4o-2024-05-13\"\n",
    "\n",
    "model_name = (\n",
    "    \"gpt4o\" if \"gpt-4o\" in model else \"gpt4\" if \"gpt-4\" in model else \"gpt35\"\n",
    ")\n",
    "input = \"\"\"Your task: Produce a list that contains, in order, a one-word country, a one-word capital city of a country, a one-word US state, a one-word US state capital, and the surname of an American president.\"\"\""
   ]
  },
  {
   "cell_type": "code",
   "execution_count": 46,
   "metadata": {},
   "outputs": [],
   "source": [
    "# from data_utils import update_solutions_json\n",
    "# update_solutions_json()\n",
    "results = load_from_json(f\"results/{model_name}_results.json\")\n",
    "solutions = load_from_json(\"solutions.json\")"
   ]
  },
  {
   "cell_type": "code",
   "execution_count": 47,
   "metadata": {},
   "outputs": [],
   "source": [
    "def produce_results(model_name, number_of_results=100):\n",
    "    results = []\n",
    "    for i in range(number_of_results):\n",
    "        logprobs, message = get_gpt_logprobs(model, input, temperature=1)\n",
    "        results.append({'logprob_data': logprobs, 'message': message, 'tokens': tokenize_gpt(logprobs)})\n",
    "\n",
    "    existing_results = load_from_json(f'results/{model_name}_results.json')\n",
    "    existing_results.extend(results)\n",
    "    save_to_json(existing_results, 'results/{model_name}_results.json')"
   ]
  },
  {
   "cell_type": "code",
   "execution_count": 48,
   "metadata": {},
   "outputs": [],
   "source": [
    "prefix_map = {}\n",
    "prefix_map[''] = results[0]['logprob_data'][0]\n",
    "for result in results:\n",
    "    prefix = ''\n",
    "    for token, logprobs in zip(result['tokens'], result['logprob_data'][1:]):\n",
    "        prefix += token\n",
    "        prefix_map[prefix] = logprobs"
   ]
  },
  {
   "cell_type": "code",
   "execution_count": 49,
   "metadata": {},
   "outputs": [],
   "source": [
    "def compute_prefix_map(results):\n",
    "    prefix_map = {}\n",
    "    prefix_map[''] = results[0]['logprob_data'][0]\n",
    "    for result in results:\n",
    "        prefix = ''\n",
    "        for token, logprobs in zip(result['tokens'], result['logprob_data'][1:]):\n",
    "            prefix += token\n",
    "            if prefix == 'Canada  \\nAmman  \\nNevada  \\nAustin  \\nN':\n",
    "                print(prefix, logprobs)\n",
    "            prefix_map[prefix] = logprobs\n",
    "    \n",
    "    return prefix_map"
   ]
  },
  {
   "cell_type": "code",
   "execution_count": 50,
   "metadata": {},
   "outputs": [],
   "source": [
    "def check_word_chain(words):\n",
    "    \"\"\" Returns True if the words follow the last letter/first letter rule, else False \"\"\"\n",
    "    words = [word.lower() for word in words]\n",
    "    for i in range(len(words) - 1):\n",
    "        if words[i][-1] != words[i + 1][0]:\n",
    "            return False\n",
    "    return True"
   ]
  },
  {
   "cell_type": "code",
   "execution_count": 51,
   "metadata": {},
   "outputs": [],
   "source": [
    "def first_letter_set(arr):\n",
    "    return set([s[0] for s in arr])\n",
    "\n",
    "def last_letter_set(arr):\n",
    "    return set([s[-1] for s in arr])"
   ]
  },
  {
   "cell_type": "code",
   "execution_count": 52,
   "metadata": {},
   "outputs": [
    {
     "name": "stdout",
     "output_type": "stream",
     "text": [
      "Total number of correct chains: 24686\n",
      "Examples:\n",
      "[['russia', 'amsterdam', 'massachusetts', 'salem', 'monroe'],\n",
      " ['rwanda', 'amsterdam', 'massachusetts', 'salem', 'monroe'],\n",
      " ['samoa', 'amsterdam', 'massachusetts', 'salem', 'monroe'],\n",
      " ['serbia', 'amsterdam', 'massachusetts', 'salem', 'monroe'],\n",
      " ['slovakia', 'amsterdam', 'massachusetts', 'salem', 'monroe'],\n",
      " ['slovenia', 'amsterdam', 'massachusetts', 'salem', 'monroe'],\n",
      " ['somalia', 'amsterdam', 'massachusetts', 'salem', 'monroe'],\n",
      " ['syria', 'amsterdam', 'massachusetts', 'salem', 'monroe'],\n",
      " ['tanzania', 'amsterdam', 'massachusetts', 'salem', 'monroe'],\n",
      " ['tonga', 'amsterdam', 'massachusetts', 'salem', 'monroe']]\n",
      "Choosable countries: 152 / 182\n",
      "Choosable world capitals: 118 / 209\n",
      "Choosable states: 30 / 40\n",
      "Choosable state capitals: 14 / 41\n",
      "Choosable presidents: 12 / 39\n"
     ]
    }
   ],
   "source": [
    "\"\"\" Print total number of correct solution chains and the number of choosable items for each category \"\"\"\n",
    "\n",
    "def build_last_letter_dict(strings):\n",
    "    prefix_dict = defaultdict(list)\n",
    "    for s in strings:\n",
    "        prefix_dict[s[-1]].append(s)\n",
    "    return prefix_dict\n",
    "\n",
    "last_letter_dict_countries = build_last_letter_dict(solutions['countries'])\n",
    "last_letter_dict_world_capitals = build_last_letter_dict(solutions['world_capitals'])\n",
    "last_letter_dict_states = build_last_letter_dict(solutions['states'])\n",
    "last_letter_dict_state_capitals = build_last_letter_dict(solutions['state_capitals'])\n",
    "\n",
    "correct_chains = []\n",
    "for p in solutions['presidents']:\n",
    "    for result in last_letter_dict_state_capitals[p[0]]:\n",
    "        for s in last_letter_dict_states[result[0]]:\n",
    "            for w in last_letter_dict_world_capitals[s[0]]:\n",
    "                for x in last_letter_dict_countries[w[0]]:\n",
    "                    correct_chains.append([x, w, s, result, p])\n",
    "\n",
    "print(f'Total number of correct chains: {len(correct_chains)}')\n",
    "print('Examples:')\n",
    "pprint(correct_chains[10000:10010])\n",
    "\n",
    "choosable_countries = set([c[0] for c in correct_chains])\n",
    "choosable_world_capitals = set([c[1] for c in correct_chains])\n",
    "choosable_states = set([c[2] for c in correct_chains])\n",
    "choosable_state_capitals = set([c[3] for c in correct_chains])\n",
    "choosable_presidents = set([c[4] for c in correct_chains])\n",
    "choosable = choosable_countries | choosable_world_capitals | choosable_states | choosable_state_capitals | choosable_presidents\n",
    "\n",
    "print(f'Choosable countries: {len(choosable_countries)} / {len(solutions[\"countries\"])}')\n",
    "print(f'Choosable world capitals: {len(choosable_world_capitals)} / {len(solutions[\"world_capitals\"])}')\n",
    "print(f'Choosable states: {len(choosable_states)} / {len(solutions[\"states\"])}')\n",
    "print(f'Choosable state capitals: {len(choosable_state_capitals)} / {len(solutions[\"state_capitals\"])}')\n",
    "print(f'Choosable presidents: {len(choosable_presidents)} / {len(solutions[\"presidents\"])}')"
   ]
  },
  {
   "cell_type": "code",
   "execution_count": 53,
   "metadata": {},
   "outputs": [
    {
     "name": "stdout",
     "output_type": "stream",
     "text": [
      "1000 21\n",
      "['\"Denmark']\n",
      "---\n",
      "1000 27\n",
      "['Denmark', 'Yemen', 'Lansing', 'yemen', 'Kuala', 'Kabul\"']\n",
      "---\n",
      "999 49\n",
      "['Burma', 'New', 'Bulgaria', 'Belize', 'Berlin', 'Brazil', 'Bismarck', 'Bermuda', 'Belarus', 'braska', 'Boise', 'baltimore', 'Belgium', 'Baltimore', 'Ethiopia', 'bama', 'Boston', 'boston', 'Birmingham', 'Bahamas', 'Bihar', 'ennessee', 'Bahrain', 'South', 'Bangladesh']\n",
      "---\n",
      "999 43\n",
      "['Knoxville', 'eattle', 'Eritrea', 'Anchorage', 'Nairobi', 'Erie', 'Elgin', 'Ellicott', 'Eureka', 'erie', 'England', 'Dakota', 'Elko', 'Edmonton', 'alaska', 'Edinburgh', 'Everett', 'Eire', 'Evansville', 'Eugene', 'Kansasville', 'Edison', 'York']\n",
      "---\n",
      "999 48\n",
      "['Dallas', 'Arlington', 'Yamamoto', 'Yates\"', 'Yonville', 'Yorba', 'Yarbrough', 'Yoncallie', 'Yeltsin', 'Yonkers', 'Davis', 'Atlanta', 'Yakima', 'Yoncallers', 'York', 'Yoncallon', 'Young', 'Yoncallup', 'Yankee', 'Albany', 'Albuquerque', 'Yarborough', 'Austin', 'Yates', 'Nixon\"', 'Kansas', 'Yeashington', 'Yamaguchi', 'Yonk', 'Sheridan', 'Grant\"', 'Simpson']\n",
      "---\n"
     ]
    }
   ],
   "source": [
    "\"\"\" Prints the invalid submitted tokens for each category\"\"\"\n",
    "\n",
    "countries = []\n",
    "capitals = []\n",
    "states = []\n",
    "state_capitals = []\n",
    "presidents = []\n",
    "submitted_items = [countries, capitals, states, state_capitals, presidents]\n",
    "for result in results:\n",
    "    words = result['message'].split()\n",
    "    for index in range(min(5, len(words))):\n",
    "        if index == 4:\n",
    "            presidents.append(words[index].replace('.', ''))\n",
    "        else:\n",
    "            submitted_items[index].append(words[index])\n",
    "    \n",
    "for name, l in [('countries', countries), ('world_capitals', capitals), ('states', states), ('state_capitals', state_capitals), ('presidents', presidents)]:\n",
    "    print(len(l), len(set(l)))\n",
    "    print([i for i in set(l) if i.lower() not in [j.lower() for j in solutions[name]]])\n",
    "    print('---')"
   ]
  },
  {
   "cell_type": "code",
   "execution_count": 54,
   "metadata": {},
   "outputs": [
    {
     "name": "stdout",
     "output_type": "stream",
     "text": [
      "432 1000 0.432\n"
     ]
    }
   ],
   "source": [
    "score = 0\n",
    "valid_results = []\n",
    "for result in results:\n",
    "    try:\n",
    "        a, b, c, d, e = result['message'].split()[:5]\n",
    "        if a.lower() not in solutions['countries']:\n",
    "            continue\n",
    "        if b.lower() not in solutions['world_capitals']:\n",
    "            continue\n",
    "        if c.lower() not in solutions['states']:\n",
    "            continue\n",
    "        if d.lower() not in solutions['state_capitals']:\n",
    "            continue\n",
    "        if e.lower() not in solutions['presidents']:\n",
    "            continue\n",
    "        score += 1\n",
    "        valid_results.append(result)\n",
    "    except:\n",
    "        continue\n",
    "\n",
    "print(score, len(results), score / len(results))"
   ]
  },
  {
   "cell_type": "code",
   "execution_count": 55,
   "metadata": {},
   "outputs": [
    {
     "data": {
      "text/plain": [
       "(407, 432, 0.9421296296296297)"
      ]
     },
     "execution_count": 55,
     "metadata": {},
     "output_type": "execute_result"
    }
   ],
   "source": [
    "passing_results = []\n",
    "for result in valid_results:\n",
    "    words = result['message'].split()[:5]\n",
    "    if check_word_chain(words):\n",
    "        passing_results.append(result)\n",
    "\n",
    "len(passing_results), len(valid_results), len(passing_results) / len(valid_results)"
   ]
  },
  {
   "cell_type": "code",
   "execution_count": 56,
   "metadata": {},
   "outputs": [
    {
     "name": "stderr",
     "output_type": "stream",
     "text": [
      "100%|██████████| 407/407 [00:00<00:00, 52220.30it/s]\n"
     ]
    }
   ],
   "source": [
    "prefix_map = compute_prefix_map(results)\n",
    "\n",
    "total_prob_map = []\n",
    "for result in tqdm(passing_results):\n",
    "    # print(result['message'])\n",
    "    # print(result['tokens'])\n",
    "    response = ''\n",
    "    try:\n",
    "        total_prob = [i[1] for i in prefix_map[response] if i[0] == result['tokens'][0]][0]\n",
    "        # print(total_prob)\n",
    "    except:\n",
    "        total_prob = prefix_map[''][-1][1]\n",
    "    # print(result['tokens'][0], total_prob)\n",
    "    for token, next_token in zip(result['tokens'], result['tokens'][1:]):\n",
    "        response += token\n",
    "        try:\n",
    "            prob = [i[1] for i in prefix_map[response] if i[0] == next_token][0]\n",
    "        except:\n",
    "            try:\n",
    "                prob = prefix_map[response][-1][1]\n",
    "            except:\n",
    "                prob = 1\n",
    "        total_prob *= prob\n",
    "        # print(next_token, prob)\n",
    "    result['total_prob']= total_prob\n",
    "    # print('\\n', total_prob)\n",
    "\n",
    "save_to_json(results, f\"results/{model_name}_results.json\")"
   ]
  },
  {
   "cell_type": "code",
   "execution_count": 57,
   "metadata": {},
   "outputs": [],
   "source": [
    "save_to_json([result['total_prob'] for result in passing_results], f'{model_name}_total_probs.json')"
   ]
  },
  {
   "cell_type": "code",
   "execution_count": 58,
   "metadata": {},
   "outputs": [],
   "source": [
    "prefix_map = compute_prefix_map(results)"
   ]
  },
  {
   "cell_type": "code",
   "execution_count": 73,
   "metadata": {},
   "outputs": [
    {
     "data": {
      "text/plain": [
       "True"
      ]
     },
     "execution_count": 73,
     "metadata": {},
     "output_type": "execute_result"
    }
   ],
   "source": [
    "'atlanta' in choosable"
   ]
  },
  {
   "cell_type": "code",
   "execution_count": 98,
   "metadata": {},
   "outputs": [
    {
     "ename": "KeyError",
     "evalue": "'Norway Yamoussoukro Oregon Nashville Eisenhower'",
     "output_type": "error",
     "traceback": [
      "\u001b[0;31m---------------------------------------------------------------------------\u001b[0m",
      "\u001b[0;31mKeyError\u001b[0m                                  Traceback (most recent call last)",
      "Cell \u001b[0;32mIn[98], line 1\u001b[0m\n\u001b[0;32m----> 1\u001b[0m \u001b[43mprefix_map\u001b[49m\u001b[43m[\u001b[49m\u001b[38;5;124;43m'\u001b[39;49m\u001b[38;5;124;43mNorway Yamoussoukro Oregon Nashville Eisenhower\u001b[39;49m\u001b[38;5;124;43m'\u001b[39;49m\u001b[43m]\u001b[49m\n",
      "\u001b[0;31mKeyError\u001b[0m: 'Norway Yamoussoukro Oregon Nashville Eisenhower'"
     ]
    }
   ],
   "source": [
    "prefix_map['Norway Yamoussoukro Oregon Nashville Eisenhower']"
   ]
  },
  {
   "cell_type": "code",
   "execution_count": null,
   "metadata": {},
   "outputs": [],
   "source": [
    "`Nor` (1), ` way` (0), ` Yam` (0), ` ou` (2), ` ss` (0), `ou` (0), `k` (0), `ro` (0), ` Oregon` (0), ` Nashville` (0), ` Eisenhower` (0)"
   ]
  }
 ],
 "metadata": {
  "kernelspec": {
   "display_name": "venv",
   "language": "python",
   "name": "python3"
  },
  "language_info": {
   "codemirror_mode": {
    "name": "ipython",
    "version": 3
   },
   "file_extension": ".py",
   "mimetype": "text/x-python",
   "name": "python",
   "nbconvert_exporter": "python",
   "pygments_lexer": "ipython3",
   "version": "3.12.2"
  }
 },
 "nbformat": 4,
 "nbformat_minor": 2
}
